{
 "cells": [
  {
   "cell_type": "code",
   "execution_count": null,
   "metadata": {},
   "outputs": [],
   "source": [
    "# %%\n",
    "import tensorflow as tf\n",
    "import sys\n",
    "sys.path.append(\"..\")\n",
    "import pandas as pd\n",
    "import os\n",
    "from utils import plot_history\n",
    "from helper import brain_tumor_model, get_data_generators\n",
    "import opendatasets as od\n",
    "\n",
    "PROJECT_URL = \"https://www.kaggle.com/datasets/fernando2rad/brain-tumor-mri-images-44c\"\n",
    "PROJECT_NAME = PROJECT_URL.split(\"/\")[-1]\n",
    "DATA_PATH = os.path.join(\"../datasets\", PROJECT_NAME)\n",
    "BATCH_SIZE = 64\n",
    "IMG_SHAPE = (456,456,3)\n",
    "\n",
    "od.download(PROJECT_URL, \"../datasets\")"
   ]
  },
  {
   "cell_type": "code",
   "execution_count": null,
   "metadata": {},
   "outputs": [],
   "source": [
    "# Load the data\n",
    "files = []\n",
    "classes = []\n",
    "for c in os.listdir(DATA_PATH):\n",
    "    for f in os.listdir(os.path.join(DATA_PATH, c)):\n",
    "        classes.append(c)\n",
    "        files.append(os.path.join(DATA_PATH, c, f))\n",
    "\n",
    "metadata = pd.DataFrame({\"filepath\":files, \"tumor\":classes})\n",
    "# Create the data generators\n",
    "num_classes = len(os.listdir(DATA_PATH))\n",
    "\n",
    "train_gen, valid_gen, test_gen = get_data_generators(metadata, IMG_SHAPE[:-1], BATCH_SIZE)"
   ]
  },
  {
   "cell_type": "code",
   "execution_count": null,
   "metadata": {},
   "outputs": [],
   "source": [
    "# Model\n",
    "model = brain_tumor_model(IMG_SHAPE, num_classes)\n",
    "model.compile(optimizer=tf.keras.optimizers.Adamax(learning_rate=0.001),\n",
    "              loss=tf.keras.losses.CategoricalCrossentropy(from_logits=True),\n",
    "              metrics=[\"accuracy\"])\n",
    "\n",
    "history = model.fit(train_gen, epochs=15, validation_data=valid_gen)\n",
    "\n",
    "plot_history((history.history[\"loss\"],\n",
    "              history.history[\"val_loss\"],\n",
    "              history.history[\"accuracy\"],\n",
    "              history.history[\"val_accuracy\"]))"
   ]
  },
  {
   "cell_type": "code",
   "execution_count": null,
   "metadata": {},
   "outputs": [],
   "source": [
    "# fine tuning\n",
    "for layer in model.layers[2].layers[int(len(model.layers[2].layers)*0.7):]:\n",
    "    layer.trainable = True\n",
    "\n",
    "model.compile(optimizer=tf.keras.optimizers.Adamax(learning_rate=0.00015),\n",
    "              loss=tf.keras.losses.CategoricalCrossentropy(from_logits=True),\n",
    "              metrics=[\"accuracy\"])\n",
    "\n",
    "history2 = model.fit(train_gen, epochs=30, initial_epoch=history.epoch[-1], validation_data=valid_gen)\n",
    "\n",
    "plot_history((history.history[\"loss\"] + history2.history[\"loss\"],\n",
    "              history.history[\"val_loss\"] + history2.history[\"val_loss\"],\n",
    "              history.history[\"accuracy\"] + history2.history[\"accuracy\"],\n",
    "              history.history[\"val_accuracy\"] + history2.history[\"val_accuracy\"]),\n",
    "              20)"
   ]
  }
 ],
 "metadata": {
  "language_info": {
   "name": "python"
  },
  "orig_nbformat": 4
 },
 "nbformat": 4,
 "nbformat_minor": 2
}
